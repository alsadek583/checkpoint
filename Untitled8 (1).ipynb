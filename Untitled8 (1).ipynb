{
 "cells": [
  {
   "cell_type": "code",
   "execution_count": 1,
   "id": "b70346aa",
   "metadata": {},
   "outputs": [
    {
     "name": "stdout",
     "output_type": "stream",
     "text": [
      "[2, 3, 6]\n",
      "product: \n",
      "36\n"
     ]
    }
   ],
   "source": [
    "\n",
    "def mul_list(list) :\n",
    "     \n",
    "    \n",
    "    product = 1\n",
    "    for i in list:\n",
    "         product = product * i\n",
    "    return product\n",
    "     \n",
    "\n",
    "list1 = [2, 3, 6]\n",
    "print(list1)\n",
    "print(\"product: \") \n",
    "print(mul_list(list1))"
   ]
  },
  {
   "cell_type": "code",
   "execution_count": 3,
   "id": "d0403d42",
   "metadata": {},
   "outputs": [
    {
     "name": "stdout",
     "output_type": "stream",
     "text": [
      "[(2, 1), (1, 2), (2, 3), (4, 4), (2, 5)]\n"
     ]
    }
   ],
   "source": [
    "\n",
    "def Sort_Tuple(tup): \n",
    "       \n",
    "    \n",
    "    lst = len(tup) \n",
    "    for i in range(0, lst): \n",
    "           \n",
    "        for j in range(0, lst-i-1): \n",
    "            if (tup[j][-1] > tup[j + 1][-1]): \n",
    "                temp = tup[j] \n",
    "                tup[j]= tup[j + 1] \n",
    "                tup[j + 1]= temp \n",
    "    return tup \n",
    "   \n",
    "tup =[(2, 5), (1, 2), (4, 4), (2, 3), (2, 1)]\n",
    "         \n",
    "print(Sort_Tuple(tup))"
   ]
  },
  {
   "cell_type": "code",
   "execution_count": 5,
   "id": "d1fb1437",
   "metadata": {},
   "outputs": [
    {
     "name": "stdout",
     "output_type": "stream",
     "text": [
      "{'b': 400, 'a': 400, 'd': 400, 'c': 300}\n"
     ]
    }
   ],
   "source": [
    "\n",
    "dict1 = {'a': 100, 'b': 200, 'c': 300}\n",
    "dict2 = {'a': 300, 'b': 200, 'd': 400}\n",
    " \n",
    "c = {i: dict1.get(i, 0) + dict2.get(i, 0)\n",
    "     for i in set(dict1).union(dict2)}\n",
    " \n",
    "print(c)"
   ]
  },
  {
   "cell_type": "code",
   "execution_count": 1,
   "id": "afe7c2d5",
   "metadata": {},
   "outputs": [
    {
     "name": "stdout",
     "output_type": "stream",
     "text": [
      "Enter the value of n: 8\n",
      "{1: 1, 2: 4, 3: 9, 4: 16, 5: 25, 6: 36, 7: 49, 8: 64}\n"
     ]
    }
   ],
   "source": [
    "\n",
    "n = int(input(\"Enter the value of n: \"))\n",
    "\n",
    "\n",
    "squares = {i : i*i for i in range(1, n+1)}\n",
    "\n",
    "\n",
    "print(squares)\n"
   ]
  },
  {
   "cell_type": "code",
   "execution_count": 2,
   "id": "805f6272",
   "metadata": {},
   "outputs": [
    {
     "name": "stdout",
     "output_type": "stream",
     "text": [
      "[('item 3', '24.5'), ('item 2', '15.10'), ('item 1', '12.20')]\n"
     ]
    }
   ],
   "source": [
    "\n",
    "def Sort(tup):\n",
    "    tup.sort(key = lambda x: float(x[1]), reverse = True)\n",
    "    print(tup)\n",
    "tup = [('item 1', '12.20'), ('item 2', '15.10'), ('item 3', '24.5')]\n",
    "Sort(tup)"
   ]
  },
  {
   "cell_type": "code",
   "execution_count": 3,
   "id": "f647fb7f",
   "metadata": {},
   "outputs": [
    {
     "name": "stdout",
     "output_type": "stream",
     "text": [
      "set: {0, 1, 2, 3, 4}\n"
     ]
    }
   ],
   "source": [
    "\n",
    "set = {0, 1, 2, 3, 4}\n",
    "print('set:', set)"
   ]
  }
 ],
 "metadata": {
  "kernelspec": {
   "display_name": "Python 3 (ipykernel)",
   "language": "python",
   "name": "python3"
  },
  "language_info": {
   "codemirror_mode": {
    "name": "ipython",
    "version": 3
   },
   "file_extension": ".py",
   "mimetype": "text/x-python",
   "name": "python",
   "nbconvert_exporter": "python",
   "pygments_lexer": "ipython3",
   "version": "3.10.9"
  }
 },
 "nbformat": 4,
 "nbformat_minor": 5
}
