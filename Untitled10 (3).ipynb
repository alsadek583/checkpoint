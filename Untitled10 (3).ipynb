{
 "cells": [
  {
   "cell_type": "code",
   "execution_count": null,
   "id": "de8c9f33",
   "metadata": {},
   "outputs": [],
   "source": [
    "\n",
    "import requests\n",
    " \n",
    "# get URL\n",
    "page = requests.get(\"https://en.wikipedia.org/wiki/Main_Page\")\n",
    " \n",
    "# display status code\n",
    "print(page.status_code)\n",
    " \n",
    "# display scraped data\n",
    "print(page.content)"
   ]
  }
 ],
 "metadata": {
  "kernelspec": {
   "display_name": "Python 3 (ipykernel)",
   "language": "python",
   "name": "python3"
  },
  "language_info": {
   "codemirror_mode": {
    "name": "ipython",
    "version": 3
   },
   "file_extension": ".py",
   "mimetype": "text/x-python",
   "name": "python",
   "nbconvert_exporter": "python",
   "pygments_lexer": "ipython3",
   "version": "3.10.9"
  }
 },
 "nbformat": 4,
 "nbformat_minor": 5
}
