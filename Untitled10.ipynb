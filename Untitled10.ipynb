{
 "cells": [
  {
   "cell_type": "code",
   "execution_count": null,
   "id": "abb5478f",
   "metadata": {},
   "outputs": [],
   "source": [
    "\n",
    "\n",
    "class Person(object):\n",
    "      \n",
    "    def __init__(self, name):\n",
    "        self.name = name\n",
    "  \n",
    "    \n",
    "    def getName(self):\n",
    "        return self.name\n",
    "  \n",
    "    \n",
    "    def isEmployee(self):\n",
    "        return False\n",
    "  \n",
    "  \n",
    "\n",
    "class Employee(Person):\n",
    "  \n",
    "    \n",
    "    def isEmployee(self):\n",
    "        return True\n",
    "  \n",
    "# Driver code\n",
    "emp = Person(\"Geek1\")  \n",
    "print(emp.getName(), emp.isEmployee())\n",
    "  \n",
    "emp = Employee(\"Geek2\")\n",
    "print(emp.getName(), emp.isEmployee())"
   ]
  }
 ],
 "metadata": {
  "kernelspec": {
   "display_name": "Python 3 (ipykernel)",
   "language": "python",
   "name": "python3"
  },
  "language_info": {
   "codemirror_mode": {
    "name": "ipython",
    "version": 3
   },
   "file_extension": ".py",
   "mimetype": "text/x-python",
   "name": "python",
   "nbconvert_exporter": "python",
   "pygments_lexer": "ipython3",
   "version": "3.10.9"
  }
 },
 "nbformat": 4,
 "nbformat_minor": 5
}
